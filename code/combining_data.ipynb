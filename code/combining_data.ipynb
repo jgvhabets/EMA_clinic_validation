{
 "cells": [
  {
   "cell_type": "markdown",
   "metadata": {},
   "source": [
    "# Combining multi-modal data for EMA validation with UPDRS and Ephys"
   ]
  },
  {
   "cell_type": "markdown",
   "metadata": {},
   "source": [
    "## 0. Import packages\n",
    "\n",
    "- document versions for reproducibility"
   ]
  },
  {
   "cell_type": "code",
   "execution_count": null,
   "metadata": {},
   "outputs": [],
   "source": [
    "# import packages\n",
    "import pandas as pd\n",
    "import numpy as np\n",
    "import os\n",
    "import sys\n",
    "import csv\n",
    "import json\n",
    "import importlib\n",
    "from itertools import product, compress\n",
    "import matplotlib.pyplot as plt\n",
    "from scipy.stats import pearsonr, spearmanr\n",
    "from scipy.signal import welch"
   ]
  },
  {
   "cell_type": "code",
   "execution_count": null,
   "metadata": {},
   "outputs": [],
   "source": [
    "print('Python sys', sys.version)\n",
    "print('pandas', pd.__version__)\n",
    "print('numpy', np.__version__)\n",
    "# print('mne_bids', mne_bids.__version__)\n",
    "# print('mne', mne.__version__)\n",
    "# print('sci-py', scipy.__version__)\n",
    "# print('sci-kit learn', sk.__version__)\n",
    "# print('matplotlib', plt_version)"
   ]
  },
  {
   "cell_type": "code",
   "execution_count": null,
   "metadata": {},
   "outputs": [],
   "source": [
    "from utils import load_utils, load_data, prep_data\n",
    "from PerceiveImport.classes import main_class"
   ]
  },
  {
   "cell_type": "code",
   "execution_count": null,
   "metadata": {},
   "outputs": [],
   "source": [
    "# FOR DEBUGGING\n",
    "importlib.reload(load_data)"
   ]
  },
  {
   "cell_type": "markdown",
   "metadata": {},
   "source": [
    "## 1. Import Data"
   ]
  },
  {
   "cell_type": "markdown",
   "metadata": {},
   "source": [
    "### 1.1 Import EMA and UPDRS"
   ]
  },
  {
   "cell_type": "code",
   "execution_count": null,
   "metadata": {},
   "outputs": [],
   "source": [
    "# SINGLE CONDITION\n",
    "CONDITION = 'm0s0'\n",
    "\n",
    "ema_df, updrs_df = load_data.get_EMA_UPDRS_data(condition=CONDITION)\n"
   ]
  },
  {
   "cell_type": "code",
   "execution_count": null,
   "metadata": {},
   "outputs": [],
   "source": [
    "# 4 CONDITIONS\n",
    "EMA, UPDRS = {}, {}\n",
    "\n",
    "for COND in ['m0s0', 'm0s1', 'm1s0', 'm1s1']:\n",
    "    ema_temp, updrs_temp = load_data.get_EMA_UPDRS_data(condition=COND)\n",
    "    EMA[COND] = ema_temp\n",
    "    UPDRS[COND] = updrs_temp\n"
   ]
  },
  {
   "cell_type": "markdown",
   "metadata": {},
   "source": [
    "### 1.2 Import LFP data"
   ]
  },
  {
   "cell_type": "code",
   "execution_count": null,
   "metadata": {},
   "outputs": [],
   "source": [
    "CONDITION = 'm0s0'\n",
    "\n",
    "\n",
    "ids = load_data.get_ids()\n",
    "\n",
    "SKIP_LFPs = {\n",
    "    'ema03': 'm0s1',\n",
    "    'ema10': 'all',\n",
    "    'ema11': 'all',\n",
    "    'ema12': 'all',\n",
    "    'ema14': 'all',\n",
    "    'ema15': 'all',\n",
    "    'ema16': 'all'\n",
    "}\n",
    "\n",
    "# ema11, percept 088 -> no streaming?\n",
    "\n",
    "lfp_data = {}\n",
    "\n",
    "for ema_id, COND in product(ema_df.index,\n",
    "                            ['m0s0', 'm0s1', 'm1s0', 'm1s1']):\n",
    "    if ema_id in SKIP_LFPs.keys():\n",
    "        if COND in SKIP_LFPs[ema_id] or SKIP_LFPs[ema_id] == 'all':\n",
    "            print(f'\\n#### SKIP {ema_id} {COND}, not percept ready ####\\n')\n",
    "            continue\n",
    "\n",
    "    sub = ids.loc[ema_id]['prc_id']\n",
    "    ses = ids.loc[ema_id]['prc_ses']\n",
    "\n",
    "    print(f'\\nGET LFP {ema_id}, {sub}, {ses}, {COND}')\n",
    "\n",
    "    sub_data = main_class.PerceiveData(\n",
    "        sub = sub, \n",
    "        incl_modalities=['streaming'],\n",
    "        incl_session = [ses],\n",
    "        incl_condition =[COND,],\n",
    "        incl_task = [\"rest\"],\n",
    "        # incl_contact = [7\"RingL\", \"SegmInterR\", \"SegmIntraR\"],\n",
    "        import_json=False, # for addtionally loading the corresponding JSON files as source files, set to True\n",
    "        warn_for_metaNaNs=True, # True will give you a warning with rows from the metadata table with NaNs. Make sure you have filled out all columns of the file you want to load.\n",
    "        allow_NaNs_in_metadata=True,\n",
    "    # use_bids=True,  # TODO: add to functionality\n",
    "    )\n",
    "\n",
    "    dat = getattr(sub_data.streaming, ses)\n",
    "    dat = getattr(dat, COND).rest.run1.data.get_data()[:2, :]\n",
    "    lfp_data[f'{ema_id}_{COND}'] = dat"
   ]
  },
  {
   "cell_type": "code",
   "execution_count": null,
   "metadata": {},
   "outputs": [],
   "source": [
    "lfp_data.keys()"
   ]
  },
  {
   "cell_type": "markdown",
   "metadata": {},
   "source": [
    "## 2. Preprocess data"
   ]
  },
  {
   "cell_type": "markdown",
   "metadata": {},
   "source": [
    "#### Get (mean-corrected) EMA and UPDRS values per symptom subtype"
   ]
  },
  {
   "cell_type": "code",
   "execution_count": null,
   "metadata": {},
   "outputs": [],
   "source": [
    "importlib.reload(prep_data)"
   ]
  },
  {
   "cell_type": "code",
   "execution_count": null,
   "metadata": {},
   "outputs": [],
   "source": [
    "sumdf = prep_data.get_sum_df(EMA_dict=EMA, UPDRS_dict=UPDRS)\n",
    "\n",
    "sumdf"
   ]
  },
  {
   "cell_type": "markdown",
   "metadata": {},
   "source": [
    "#### Get Beta powers"
   ]
  },
  {
   "cell_type": "code",
   "execution_count": null,
   "metadata": {},
   "outputs": [],
   "source": [
    "importlib.reload(load_utils)"
   ]
  },
  {
   "cell_type": "code",
   "execution_count": null,
   "metadata": {},
   "outputs": [],
   "source": [
    "# FIG_PATH = os.path.join(os.path.dirname(os.getcwd()), 'figures', 'lfp_preprocess')\n",
    "FIG_PATH = load_utils.get_onedrive_path('emaval_fig')\n",
    "print(f'CHECK FIG_PATH: {FIG_PATH}, exists? -> {os.path.exists(FIG_PATH)}')"
   ]
  },
  {
   "cell_type": "markdown",
   "metadata": {},
   "source": [
    "# correct for Rest&Tap recordings!!"
   ]
  },
  {
   "cell_type": "code",
   "execution_count": null,
   "metadata": {},
   "outputs": [],
   "source": [
    "def plot_single_lfp_preprocess(\n",
    "    DAT,\n",
    "    SUB = 'emaXX',\n",
    "    COND = 'm0s0',\n",
    "    N_STD_OUTLIER = 3,\n",
    "    LOWPASS = 2,\n",
    "    HIGHPASS = 45,\n",
    "    SFREQ=250,\n",
    "    SHOWPLOTS=False,\n",
    "    SAVEPLOTS=True,\n",
    "):\n",
    "    lfp_times = prep_data.get_lfp_times()\n",
    "\n",
    "\n",
    "    fig, axes = plt.subplots(2, 2)\n",
    "    for i, (arr, side) in enumerate(\n",
    "        zip(DAT[f'{SUB}_{COND}'][:2], ['left', 'right'])\n",
    "    ):\n",
    "        arr = arr.copy()  # do not overwrite original dict data\n",
    "\n",
    "        if ids.loc[SUB]['prc_id'] in lfp_times.keys():\n",
    "            t_start, t_end = lfp_times[ids.loc[SUB]['prc_id']][COND]['rest']\n",
    "            i_start, i_end = (t_start * 250, t_end * 250)\n",
    "            arr = arr[i_start:i_end]\n",
    "\n",
    "        ### plot raw signal\n",
    "        axes[0, i].plot(arr, color='blue', alpha=.3, label='raw filtered',)\n",
    "\n",
    "        ### handle outliers\n",
    "        sel = np.logical_or(arr > (N_STD_OUTLIER * np.std(arr)),\n",
    "                            arr < (-N_STD_OUTLIER * np.std(arr)))\n",
    "        # arr[sel] = np.nan  # replace outliers with NaNs\n",
    "        arr = arr[~sel]  # drop outliers\n",
    "        \n",
    "        ### plot resulting arr\n",
    "        axes[0, i].plot(arr, color='blue', label='cleaned',)\n",
    "        axes[0, i].set_title(f'{SUB} {COND} {side} STN', weight='bold')\n",
    "        axes[0, i].set_ylabel(f'{side}-STN activity (yVolt)')\n",
    "        xticks = np.arange(0, len(arr), 250 * 60)\n",
    "        axes[0, i].set_xticks(xticks)\n",
    "        axes[0, i].set_xticklabels(np.arange(len(xticks)))\n",
    "        axes[0, i].set_xlabel('Time (minutes)')\n",
    "        axes[0, i].set_ylim(-50, 50)\n",
    "        # axes[0, i].legend(loc='upper right', frameon=False,)  # legend\n",
    "\n",
    "        ### plot PSD\n",
    "        arr = prep_data.lfp_filter(signal=arr, low=LOWPASS, high=HIGHPASS,)\n",
    "        f, psx = welch(arr, fs=SFREQ,)\n",
    "        axes[1, i].plot(f, psx)\n",
    "        axes[1, i].set_ylabel(f'{side}-STN Power (a.u.)')\n",
    "        axes[1, i].set_xlim(0, 45)\n",
    "        axes[1, i].set_xlabel('Freq (Hz)')\n",
    "\n",
    "    plt.tight_layout()\n",
    "\n",
    "    if SAVEPLOTS:\n",
    "        plt.savefig(os.path.join(FIG_PATH, 'lfp_preprocess', f'PSD_check_{SUB}_{COND}'),\n",
    "                    facecolor='w', dpi=150,)\n",
    "    if SHOWPLOTS: plt.show()\n",
    "    else: plt.close()"
   ]
  },
  {
   "cell_type": "code",
   "execution_count": null,
   "metadata": {},
   "outputs": [],
   "source": [
    "ids"
   ]
  },
  {
   "cell_type": "code",
   "execution_count": null,
   "metadata": {},
   "outputs": [],
   "source": [
    "lfp_times = prep_data.get_lfp_times()\n",
    "\n",
    "\n",
    "SUB = 'ema08'\n",
    "\n",
    "if ids.loc[SUB]['prc_id'] in lfp_times.keys():\n",
    "    rest_t1, rest_t2 = lfp_times[ids.loc[SUB]['prc_id']][COND]['rest']\n",
    "\n",
    "else:\n",
    "    print(f'no times found for {SUB}')\n",
    "\n",
    "\n",
    "# plot_single_lfp_preprocess(SUB=SUB, COND='m0s0', DAT=lfp_data, SHOWPLOTS=True, SAVEPLOTS=False,)"
   ]
  },
  {
   "cell_type": "markdown",
   "metadata": {},
   "source": [
    "#### Plot and save spectral preprocessing"
   ]
  },
  {
   "cell_type": "code",
   "execution_count": null,
   "metadata": {},
   "outputs": [],
   "source": [
    "lfp_subs = np.unique([k.split('_')[0] for k in lfp_data.keys()])\n",
    "\n",
    "lfp_subs = ['ema01', 'ema08']\n",
    "\n",
    "for SUB, COND in product(lfp_subs, ['m0s0', 'm0s1', 'm1s0', 'm1s1']):\n",
    "\n",
    "    print(f'\\n### {SUB}, {COND}')\n",
    "    if f'{SUB}_{COND}' not in lfp_data.keys():\n",
    "        print(f'...skip {SUB}, {COND}')\n",
    "        continue\n",
    "\n",
    "    # plot_single_lfp_preprocess(SUB=SUB, COND=COND, DAT=lfp_data,\n",
    "    #                            N_STD_OUTLIER=6,\n",
    "    #                            SHOWPLOTS=True, SAVEPLOTS=True,)\n"
   ]
  },
  {
   "cell_type": "code",
   "execution_count": null,
   "metadata": {},
   "outputs": [],
   "source": [
    "ids"
   ]
  },
  {
   "cell_type": "markdown",
   "metadata": {},
   "source": [
    "## 3. Analyze Correlations"
   ]
  },
  {
   "cell_type": "code",
   "execution_count": null,
   "metadata": {},
   "outputs": [],
   "source": [
    "def scatter_EMA_UPDRS(\n",
    "    dat_df,\n",
    "    EMA_subscore = 'brady',\n",
    "    UPDRS_subscore = 'brady',\n",
    "):\n",
    "\n",
    "    x, y = [], []\n",
    "\n",
    "    for COND in ['m0s0', 'm0s1', 'm1s0', 'm1s1']:\n",
    "\n",
    "        x.extend(dat_df[f'EMA_SUM_{EMA_subscore}_{COND}'])\n",
    "        y.extend(dat_df[f'UPDRS_SUM_{UPDRS_subscore}_{COND}'])\n",
    "\n",
    "    plt.scatter(x, y)\n",
    "    plt.axhline(y=0, c='gray', alpha=0.3)\n",
    "    plt.axvline(x=0, c='gray', alpha=0.3)\n",
    "\n",
    "    R, p = spearmanr(\n",
    "        [x for x in x if not np.isnan(x)],\n",
    "        [y for y in y if not np.isnan(y)]\n",
    "    )\n",
    "\n",
    "    plt.title(f'Spearman R: {R.round(2)}, p={p.round(5)}')\n",
    "    plt.xlabel(f'EMA {EMA_subscore}\\n(higher is less symptoms)')\n",
    "    plt.ylabel(f'UPDRS {UPDRS_subscore}\\n(lower is less symptoms)')\n",
    "    plt.show()"
   ]
  },
  {
   "cell_type": "code",
   "execution_count": null,
   "metadata": {},
   "outputs": [],
   "source": [
    "EMA_subscore = 'brady'\n",
    "UPDRS_subscore = 'brady'\n",
    "\n",
    "\n",
    "scatter_EMA_UPDRS(\n",
    "    dat_df=sumdf,\n",
    "    EMA_subscore=EMA_subscore,\n",
    "    UPDRS_subscore=UPDRS_subscore,\n",
    ")"
   ]
  }
 ],
 "metadata": {
  "kernelspec": {
   "display_name": "home",
   "language": "python",
   "name": "python3"
  },
  "language_info": {
   "codemirror_mode": {
    "name": "ipython",
    "version": 3
   },
   "file_extension": ".py",
   "mimetype": "text/x-python",
   "name": "python",
   "nbconvert_exporter": "python",
   "pygments_lexer": "ipython3",
   "version": "3.11.5"
  }
 },
 "nbformat": 4,
 "nbformat_minor": 2
}
