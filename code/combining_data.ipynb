{
 "cells": [
  {
   "cell_type": "markdown",
   "metadata": {},
   "source": [
    "# Combining multi-modal data for EMA validation with UPDRS and Ephys"
   ]
  },
  {
   "cell_type": "markdown",
   "metadata": {},
   "source": [
    "## 0. Import packages\n",
    "\n",
    "- document versions for reproducibility"
   ]
  },
  {
   "cell_type": "code",
   "execution_count": null,
   "metadata": {},
   "outputs": [],
   "source": [
    "# import packages\n",
    "import pandas as pd\n",
    "import numpy as np\n",
    "import os\n",
    "import sys\n",
    "import csv\n",
    "import json\n",
    "import importlib\n",
    "from datetime import datetime as dt\n",
    "from datetime import timedelta as td\n",
    "import matplotlib.pyplot as plt\n",
    "from scipy.stats import pearsonr, spearmanr"
   ]
  },
  {
   "cell_type": "code",
   "execution_count": null,
   "metadata": {},
   "outputs": [],
   "source": [
    "print('Python sys', sys.version)\n",
    "print('pandas', pd.__version__)\n",
    "print('numpy', np.__version__)\n",
    "# print('mne_bids', mne_bids.__version__)\n",
    "# print('mne', mne.__version__)\n",
    "# print('sci-py', scipy.__version__)\n",
    "# print('sci-kit learn', sk.__version__)\n",
    "# print('matplotlib', plt_version)"
   ]
  },
  {
   "cell_type": "code",
   "execution_count": null,
   "metadata": {},
   "outputs": [],
   "source": [
    "from utils import load_utils, load_data\n",
    "from PerceiveImport.classes import main_class"
   ]
  },
  {
   "cell_type": "code",
   "execution_count": null,
   "metadata": {},
   "outputs": [],
   "source": [
    "# FOR DEBUGGING\n",
    "importlib.reload(load_data)"
   ]
  },
  {
   "cell_type": "markdown",
   "metadata": {},
   "source": [
    "## 1. Import Data"
   ]
  },
  {
   "cell_type": "code",
   "execution_count": null,
   "metadata": {},
   "outputs": [],
   "source": [
    "CONDITION = 'm0s0'"
   ]
  },
  {
   "cell_type": "markdown",
   "metadata": {},
   "source": [
    "Import EMA and UPDRS"
   ]
  },
  {
   "cell_type": "code",
   "execution_count": null,
   "metadata": {},
   "outputs": [],
   "source": [
    "# SINGLE CONDITION\n",
    "ema_df, updrs_df = load_data.get_EMA_UPDRS_data(condition=CONDITION)\n"
   ]
  },
  {
   "cell_type": "code",
   "execution_count": null,
   "metadata": {},
   "outputs": [],
   "source": [
    "# 4 CONDITIONS\n",
    "EMA, UPDRS = {}, {}\n",
    "\n",
    "for COND in ['m0s0', 'm0s1', 'm1s0', 'm1s1']:\n",
    "    ema_temp, updrs_temp = load_data.get_EMA_UPDRS_data(condition=COND)\n",
    "    EMA[COND] = ema_temp\n",
    "    UPDRS[COND] = updrs_temp\n"
   ]
  },
  {
   "cell_type": "markdown",
   "metadata": {},
   "source": [
    "Import LFP data"
   ]
  },
  {
   "cell_type": "code",
   "execution_count": null,
   "metadata": {},
   "outputs": [],
   "source": [
    "ids = load_data.get_ids()\n",
    "\n",
    "ids_not_percept_processed = [\n",
    "    'ema06', 'ema10', 'ema11', 'ema12',\n",
    "    'ema14', 'ema15', 'ema16'\n",
    "]\n",
    "# ema11, percept 088 -> no streaming?\n",
    "\n",
    "lfp_data = {}\n",
    "\n",
    "for ema_id in ema_df.index:\n",
    "    if ema_id in ids_not_percept_processed:\n",
    "        print(f'\\n#### SKIP {ema_id}, not percept ready ####\\n')\n",
    "        continue\n",
    "\n",
    "    sub = ids.loc[ema_id]['prc_id']\n",
    "    ses = ids.loc[ema_id]['prc_ses']\n",
    "\n",
    "    print(f'\\nGET LFP {ema_id}, {sub}, {ses}')\n",
    "\n",
    "    sub_data = main_class.PerceiveData(\n",
    "        sub = sub, \n",
    "        incl_modalities=['streaming'],\n",
    "        incl_session = [ses],\n",
    "        incl_condition =[CONDITION,],\n",
    "        incl_task = [\"rest\"],\n",
    "        # incl_contact = [7\"RingL\", \"SegmInterR\", \"SegmIntraR\"],\n",
    "        import_json=False, # for addtionally loading the corresponding JSON files as source files, set to True\n",
    "        warn_for_metaNaNs=True, # True will give you a warning with rows from the metadata table with NaNs. Make sure you have filled out all columns of the file you want to load.\n",
    "        allow_NaNs_in_metadata=True,\n",
    "    # use_bids=True,  # TODO: add to functionality\n",
    "        #TODO: run column in metadata table sometimes contains float like 1.0, then the data can´t be loaded. Even if transforming the cells in the column to \"Text\" in Excel doesn´t solve the problem\n",
    "        #Example for this run problem: sub032 or sub038, survey, fu3m\n",
    "    )\n",
    "\n",
    "    dat = getattr(sub_data.streaming, ses)\n",
    "    dat = getattr(dat, CONDITION).rest.run1.data.get_data()\n",
    "    \n",
    "    lfp_data[ema_id] = dat"
   ]
  },
  {
   "cell_type": "code",
   "execution_count": null,
   "metadata": {},
   "outputs": [],
   "source": [
    "lfp_data.keys()"
   ]
  },
  {
   "cell_type": "code",
   "execution_count": null,
   "metadata": {},
   "outputs": [],
   "source": []
  },
  {
   "cell_type": "markdown",
   "metadata": {},
   "source": [
    "Select sub score data"
   ]
  },
  {
   "cell_type": "code",
   "execution_count": null,
   "metadata": {},
   "outputs": [],
   "source": [
    "sel = load_data.get_subscores(ema_df, score_type='brady',)\n",
    "ema_df.keys()[sel]"
   ]
  },
  {
   "cell_type": "code",
   "execution_count": null,
   "metadata": {},
   "outputs": [],
   "source": [
    "sel = load_data.get_subscores(updrs_df, score_type='brady',)\n",
    "updrs_df.keys()[sel]"
   ]
  },
  {
   "cell_type": "markdown",
   "metadata": {},
   "source": [
    "Get SUM values per condition per subject"
   ]
  },
  {
   "cell_type": "code",
   "execution_count": null,
   "metadata": {},
   "outputs": [],
   "source": [
    "SUMS = pd.DataFrame(index=ids.index)\n",
    "\n",
    "COND = 'm1s1'\n",
    "\n",
    "for COND in ['m0s0', 'm0s1', 'm1s0', 'm1s1']:\n",
    "\n",
    "    sel_bool = load_data.get_subscores(EMA[COND], score_type='brady',)\n",
    "    sel_cols = EMA[COND].keys()[sel_bool]\n",
    "\n",
    "    sum_col = np.sum(EMA[COND][sel_cols], axis=1)\n",
    "    SUMS[f'EMA_SUM_{COND}'] = sum_col\n",
    "\n",
    "    sel_bool = load_data.get_subscores(UPDRS[COND], score_type='brady',)\n",
    "    sel_cols = UPDRS[COND].keys()[sel_bool]\n",
    "\n",
    "    sum_col = np.sum(UPDRS[COND][sel_cols], axis=1)\n",
    "    SUMS[f'UPDRS_SUM_{COND}'] = sum_col\n",
    "\n",
    "nan_sel = SUMS.values == 0\n",
    "\n",
    "SUMS[nan_sel] = np.NaN\n"
   ]
  },
  {
   "cell_type": "code",
   "execution_count": null,
   "metadata": {},
   "outputs": [],
   "source": [
    "# ADD individual mean over conditions\n",
    "for m in ['EMA', 'UPDRS']:\n",
    "    sel = [k for k in SUMS.keys() if k.startswith(f'{m}_SUM')]\n",
    "    means = np.nanmean(SUMS[sel], axis=1)\n",
    "    SUMS[f'{m}_indMean'] = means\n",
    "\n",
    "# Correct sums with individual means\n",
    "for m in ['EMA', 'UPDRS']:\n",
    "    for k in SUMS.keys():\n",
    "        if not k.startswith(f'{m}_SUM'): continue\n",
    "\n",
    "        corr_means = SUMS[k] - SUMS[f'{m}_indMean']\n",
    "        SUMS[f'{k}_corr'] = corr_means"
   ]
  },
  {
   "cell_type": "code",
   "execution_count": null,
   "metadata": {},
   "outputs": [],
   "source": [
    "x, y = [], []\n",
    "\n",
    "for COND in ['m0s0', 'm0s1', 'm1s0', 'm1s1']:\n",
    "\n",
    "    x.extend(SUMS[f'EMA_SUM_{COND}_corr'])\n",
    "    y.extend(SUMS[f'UPDRS_SUM_{COND}_corr'])\n"
   ]
  },
  {
   "cell_type": "code",
   "execution_count": null,
   "metadata": {},
   "outputs": [],
   "source": [
    "plt.scatter(x, y)\n",
    "plt.axhline(y=0, c='gray', alpha=0.3)\n",
    "plt.axvline(x=0, c='gray', alpha=0.3)\n",
    "\n",
    "R, p = spearmanr(\n",
    "    [x for x in x if not np.isnan(x)],\n",
    "    [y for y in y if not np.isnan(y)]\n",
    ")\n",
    "\n",
    "plt.title(f'Spearman R: {R.round(2)}, p={p.round(5)}')\n",
    "plt.xlabel('EMA corrected vs indiv-mean (max score 10)')\n",
    "plt.ylabel('UPDRS corrected vs indiv-mean (max score 28)')\n",
    "plt.show()"
   ]
  }
 ],
 "metadata": {
  "kernelspec": {
   "display_name": "home",
   "language": "python",
   "name": "python3"
  },
  "language_info": {
   "codemirror_mode": {
    "name": "ipython",
    "version": 3
   },
   "file_extension": ".py",
   "mimetype": "text/x-python",
   "name": "python",
   "nbconvert_exporter": "python",
   "pygments_lexer": "ipython3",
   "version": "3.11.5"
  }
 },
 "nbformat": 4,
 "nbformat_minor": 2
}
